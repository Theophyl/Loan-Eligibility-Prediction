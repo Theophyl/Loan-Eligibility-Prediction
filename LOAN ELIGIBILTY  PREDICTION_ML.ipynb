{
 "cells": [
  {
   "cell_type": "markdown",
   "metadata": {},
   "source": [
    "### LOAN ELIGIBILITY PREDICTION -- THEOPHILUS YAO DORTUMOR"
   ]
  },
  {
   "cell_type": "markdown",
   "metadata": {},
   "source": [
    "## IMPORTATION OF LIBRARIES"
   ]
  },
  {
   "cell_type": "code",
   "execution_count": 1,
   "metadata": {},
   "outputs": [],
   "source": [
    "import pandas as pd \n",
    "import numpy as np\n",
    "import matplotlib.pyplot as plt\n",
    "import matplotlib.style as style\n",
    "import os\n",
    "import seaborn as sns\n",
    "import warnings\n",
    "warnings.filterwarnings(\"ignore\")\n",
    "\n",
    "%matplotlib inline\n",
    "pd.set_option(\"display.max_colwidth\", None)\n",
    "pd.set_option(\"display.max_columns\", None)"
   ]
  },
  {
   "cell_type": "markdown",
   "metadata": {},
   "source": [
    "## IMPORTATION OF MODELS AND PACKAGES"
   ]
  },
  {
   "cell_type": "code",
   "execution_count": 2,
   "metadata": {},
   "outputs": [],
   "source": [
    "\n",
    "import sklearn\n",
    "#import imblearn \n",
    "\n",
    "from bioinfokit.analys import stat\n",
    "from sklearn.model_selection import train_test_split\n",
    "from sklearn.model_selection import cross_val_score\n",
    "\n",
    "from sklearn.linear_model import LogisticRegression\n",
    "from sklearn.tree import DecisionTreeClassifier \n",
    "from sklearn.neighbors import KNeighborsClassifier as KNN\n",
    "from sklearn.svm import SVC\n",
    "\n",
    "# Importation of Ensembles\n",
    "\n",
    "\n",
    "from sklearn.ensemble import VotingClassifier\n",
    "from sklearn.ensemble import BaggingClassifier\n",
    "from sklearn.ensemble import RandomForestClassifier\n",
    "from sklearn.ensemble import GradientBoostingClassifier\n",
    "from sklearn.ensemble import AdaBoostClassifier\n",
    "#from sklearn.ensemble import XGBClassifier\n",
    "\n",
    "# Importation of Scalers\n",
    "from sklearn.preprocessing import MinMaxScaler\n",
    "from sklearn.preprocessing import StandardScaler\n",
    "from sklearn.preprocessing import RobustScaler\n",
    "\n",
    "# Importation of Pipelines\n",
    "from sklearn.pipeline import Pipeline\n",
    "from sklearn.pipeline import make_pipeline\n",
    "from sklearn.model_selection import GridSearchCV\n",
    "\n",
    "# Importation of Performance Metrics\n",
    "from sklearn.metrics import confusion_matrix\n",
    "from sklearn.metrics import roc_auc_score\n",
    "from sklearn.metrics import roc_curve\n",
    "from sklearn.metrics import accuracy_score\n"
   ]
  },
  {
   "cell_type": "markdown",
   "metadata": {},
   "source": [
    "## IMPORTING THE DATA SET"
   ]
  },
  {
   "cell_type": "code",
   "execution_count": 3,
   "metadata": {
    "scrolled": true
   },
   "outputs": [
    {
     "data": {
      "text/html": [
       "<div>\n",
       "<style scoped>\n",
       "    .dataframe tbody tr th:only-of-type {\n",
       "        vertical-align: middle;\n",
       "    }\n",
       "\n",
       "    .dataframe tbody tr th {\n",
       "        vertical-align: top;\n",
       "    }\n",
       "\n",
       "    .dataframe thead th {\n",
       "        text-align: right;\n",
       "    }\n",
       "</style>\n",
       "<table border=\"1\" class=\"dataframe\">\n",
       "  <thead>\n",
       "    <tr style=\"text-align: right;\">\n",
       "      <th></th>\n",
       "      <th>Credit-Application-Result</th>\n",
       "      <th>Account-Balance</th>\n",
       "      <th>Duration-of-Credit-Month</th>\n",
       "      <th>Payment-Status-of-Previous-Credit</th>\n",
       "      <th>Purpose</th>\n",
       "      <th>Credit-Amount</th>\n",
       "      <th>Value-Savings-Stocks</th>\n",
       "      <th>Length-of-current-employment</th>\n",
       "      <th>Instalment-per-cent</th>\n",
       "      <th>Guarantors</th>\n",
       "      <th>Duration-in-Current-address</th>\n",
       "      <th>Most-valuable-available-asset</th>\n",
       "      <th>Age-years</th>\n",
       "      <th>Concurrent-Credits</th>\n",
       "      <th>Type-of-apartment</th>\n",
       "      <th>No-of-Credits-at-this-Bank</th>\n",
       "      <th>Occupation</th>\n",
       "      <th>No-of-dependents</th>\n",
       "      <th>Telephone</th>\n",
       "      <th>Foreign-Worker</th>\n",
       "    </tr>\n",
       "  </thead>\n",
       "  <tbody>\n",
       "    <tr>\n",
       "      <th>0</th>\n",
       "      <td>Creditworthy</td>\n",
       "      <td>Some Balance</td>\n",
       "      <td>4</td>\n",
       "      <td>Paid Up</td>\n",
       "      <td>Other</td>\n",
       "      <td>1494</td>\n",
       "      <td>£100-£1000</td>\n",
       "      <td>&lt; 1yr</td>\n",
       "      <td>1</td>\n",
       "      <td>None</td>\n",
       "      <td>2.0</td>\n",
       "      <td>1</td>\n",
       "      <td>NaN</td>\n",
       "      <td>Other Banks/Depts</td>\n",
       "      <td>2</td>\n",
       "      <td>1</td>\n",
       "      <td>1</td>\n",
       "      <td>2</td>\n",
       "      <td>1</td>\n",
       "      <td>2</td>\n",
       "    </tr>\n",
       "    <tr>\n",
       "      <th>1</th>\n",
       "      <td>Creditworthy</td>\n",
       "      <td>Some Balance</td>\n",
       "      <td>4</td>\n",
       "      <td>Paid Up</td>\n",
       "      <td>Home Related</td>\n",
       "      <td>1494</td>\n",
       "      <td>£100-£1000</td>\n",
       "      <td>&lt; 1yr</td>\n",
       "      <td>1</td>\n",
       "      <td>None</td>\n",
       "      <td>2.0</td>\n",
       "      <td>1</td>\n",
       "      <td>29.0</td>\n",
       "      <td>Other Banks/Depts</td>\n",
       "      <td>2</td>\n",
       "      <td>1</td>\n",
       "      <td>1</td>\n",
       "      <td>2</td>\n",
       "      <td>1</td>\n",
       "      <td>2</td>\n",
       "    </tr>\n",
       "    <tr>\n",
       "      <th>2</th>\n",
       "      <td>Creditworthy</td>\n",
       "      <td>Some Balance</td>\n",
       "      <td>4</td>\n",
       "      <td>No Problems (in this bank)</td>\n",
       "      <td>Home Related</td>\n",
       "      <td>1544</td>\n",
       "      <td>None</td>\n",
       "      <td>1-4 yrs</td>\n",
       "      <td>2</td>\n",
       "      <td>None</td>\n",
       "      <td>1.0</td>\n",
       "      <td>1</td>\n",
       "      <td>42.0</td>\n",
       "      <td>Other Banks/Depts</td>\n",
       "      <td>2</td>\n",
       "      <td>More than 1</td>\n",
       "      <td>1</td>\n",
       "      <td>2</td>\n",
       "      <td>1</td>\n",
       "      <td>1</td>\n",
       "    </tr>\n",
       "  </tbody>\n",
       "</table>\n",
       "</div>"
      ],
      "text/plain": [
       "  Credit-Application-Result Account-Balance  Duration-of-Credit-Month  \\\n",
       "0              Creditworthy    Some Balance                         4   \n",
       "1              Creditworthy    Some Balance                         4   \n",
       "2              Creditworthy    Some Balance                         4   \n",
       "\n",
       "  Payment-Status-of-Previous-Credit       Purpose  Credit-Amount  \\\n",
       "0                           Paid Up         Other           1494   \n",
       "1                           Paid Up  Home Related           1494   \n",
       "2        No Problems (in this bank)  Home Related           1544   \n",
       "\n",
       "  Value-Savings-Stocks Length-of-current-employment  Instalment-per-cent  \\\n",
       "0           £100-£1000                        < 1yr                    1   \n",
       "1           £100-£1000                        < 1yr                    1   \n",
       "2                 None                      1-4 yrs                    2   \n",
       "\n",
       "  Guarantors  Duration-in-Current-address  Most-valuable-available-asset  \\\n",
       "0       None                          2.0                              1   \n",
       "1       None                          2.0                              1   \n",
       "2       None                          1.0                              1   \n",
       "\n",
       "   Age-years Concurrent-Credits  Type-of-apartment No-of-Credits-at-this-Bank  \\\n",
       "0        NaN  Other Banks/Depts                  2                          1   \n",
       "1       29.0  Other Banks/Depts                  2                          1   \n",
       "2       42.0  Other Banks/Depts                  2                More than 1   \n",
       "\n",
       "   Occupation  No-of-dependents  Telephone  Foreign-Worker  \n",
       "0           1                 2          1               2  \n",
       "1           1                 2          1               2  \n",
       "2           1                 2          1               1  "
      ]
     },
     "execution_count": 3,
     "metadata": {},
     "output_type": "execute_result"
    }
   ],
   "source": [
    "dataset = pd.read_excel(\"credit-data-training1.xlsx\")\n",
    "\n",
    "dataset.head(3)"
   ]
  },
  {
   "cell_type": "code",
   "execution_count": null,
   "metadata": {},
   "outputs": [],
   "source": []
  },
  {
   "cell_type": "markdown",
   "metadata": {},
   "source": [
    "## DATA EXPLORATION"
   ]
  },
  {
   "cell_type": "code",
   "execution_count": 4,
   "metadata": {},
   "outputs": [
    {
     "name": "stdout",
     "output_type": "stream",
     "text": [
      "The dataset has 500 rows and 20 columns\n"
     ]
    }
   ],
   "source": [
    "print(\"The dataset has {} rows and {} columns\".format(dataset.shape[0], dataset.shape[1]))"
   ]
  },
  {
   "cell_type": "markdown",
   "metadata": {},
   "source": [
    "From this instance, the dataset has 500 rows with 21 columns which includes the target variable. "
   ]
  },
  {
   "cell_type": "markdown",
   "metadata": {},
   "source": [
    "#### CHECKING FOR MISSING VALUES"
   ]
  },
  {
   "cell_type": "code",
   "execution_count": 5,
   "metadata": {},
   "outputs": [
    {
     "data": {
      "text/plain": [
       "Credit-Application-Result              0\n",
       "Account-Balance                        0\n",
       "Duration-of-Credit-Month               0\n",
       "Payment-Status-of-Previous-Credit      0\n",
       "Purpose                                0\n",
       "Credit-Amount                          0\n",
       "Value-Savings-Stocks                   0\n",
       "Length-of-current-employment           0\n",
       "Instalment-per-cent                    0\n",
       "Guarantors                             0\n",
       "Duration-in-Current-address          344\n",
       "Most-valuable-available-asset          0\n",
       "Age-years                             12\n",
       "Concurrent-Credits                     0\n",
       "Type-of-apartment                      0\n",
       "No-of-Credits-at-this-Bank             0\n",
       "Occupation                             0\n",
       "No-of-dependents                       0\n",
       "Telephone                              0\n",
       "Foreign-Worker                         0\n",
       "dtype: int64"
      ]
     },
     "execution_count": 5,
     "metadata": {},
     "output_type": "execute_result"
    }
   ],
   "source": [
    "dataset.isnull().sum()"
   ]
  },
  {
   "cell_type": "markdown",
   "metadata": {},
   "source": [
    "The inspection of the isnull() result reveals two columns having missing value They are Duration-in-Current-address and Duration-in-Current-address.\n",
    "However, appropraite techniques would be applied to take care of them."
   ]
  },
  {
   "cell_type": "code",
   "execution_count": 6,
   "metadata": {},
   "outputs": [
    {
     "data": {
      "text/plain": [
       "Credit-Application-Result             0.0\n",
       "Account-Balance                       0.0\n",
       "Duration-of-Credit-Month              0.0\n",
       "Payment-Status-of-Previous-Credit     0.0\n",
       "Purpose                               0.0\n",
       "Credit-Amount                         0.0\n",
       "Value-Savings-Stocks                  0.0\n",
       "Length-of-current-employment          0.0\n",
       "Instalment-per-cent                   0.0\n",
       "Guarantors                            0.0\n",
       "Duration-in-Current-address          68.8\n",
       "Most-valuable-available-asset         0.0\n",
       "Age-years                             2.4\n",
       "Concurrent-Credits                    0.0\n",
       "Type-of-apartment                     0.0\n",
       "No-of-Credits-at-this-Bank            0.0\n",
       "Occupation                            0.0\n",
       "No-of-dependents                      0.0\n",
       "Telephone                             0.0\n",
       "Foreign-Worker                        0.0\n",
       "dtype: float64"
      ]
     },
     "execution_count": 6,
     "metadata": {},
     "output_type": "execute_result"
    }
   ],
   "source": [
    "dataset.isnull().sum()/500*100"
   ]
  },
  {
   "cell_type": "markdown",
   "metadata": {},
   "source": [
    "\"The Duration-in-Current-address\" has about 68.8% missing values which gives an indication that it may be drop as a predictor. However, for \"Age-years\", there are only 2.4% missing values and the appropriate technique would be deployed to take care of that."
   ]
  },
  {
   "cell_type": "markdown",
   "metadata": {},
   "source": [
    "### INSPECTION AND CLEANING OF CATEGORICAL VARIABLES"
   ]
  },
  {
   "cell_type": "code",
   "execution_count": 7,
   "metadata": {},
   "outputs": [],
   "source": [
    "# Seperating categorical and numerical variables for individual exploration\n",
    "categorical_var = dataset.select_dtypes(include = \"object\")\n",
    "numerical_var = dataset.select_dtypes(include = np.number)"
   ]
  },
  {
   "cell_type": "code",
   "execution_count": 8,
   "metadata": {},
   "outputs": [
    {
     "name": "stdout",
     "output_type": "stream",
     "text": [
      "Credit-Application-Result\n",
      "Account-Balance\n",
      "Payment-Status-of-Previous-Credit\n",
      "Purpose\n",
      "Value-Savings-Stocks\n",
      "Length-of-current-employment\n",
      "Guarantors\n",
      "Concurrent-Credits\n",
      "No-of-Credits-at-this-Bank\n"
     ]
    }
   ],
   "source": [
    "#Categoorical variables in perspective\n",
    "for col in categorical_var.columns:\n",
    "    print(col)"
   ]
  },
  {
   "cell_type": "code",
   "execution_count": 9,
   "metadata": {},
   "outputs": [],
   "source": [
    "# creating a function to explore the categorical variables\n",
    "\n",
    "def explore_cat(dataset, c):\n",
    "    unique_categories = dataset[c].nunique()\n",
    "    if unique_categories <= 6:\n",
    "        print(\"Summary\")\n",
    "        print(\"============\")\n",
    "        print(dataset[c].describe(),\"\\n\")\n",
    "        sns.countplot(dataset[c])\n",
    "        plt.show()\n",
    "        print(\"=============================================\")\n",
    "        print(\"value counts \\n\")\n",
    "        print(dataset[c].value_counts(),\"\\n\")\n",
    "        print(\"=============================================\")\n",
    "        print(\"Missing values: {}\".format(dataset[c].isnull().sum()))\n",
    "        \n",
    "    else:\n",
    "        print(\"Summary\")\n",
    "        print(\"===========\")\n",
    "        print(dataset[c].describe(),\"\\n\")\n",
    "        sns.countplot(y=dataset[c])\n",
    "        plt.show()\n",
    "        print(\"=============================================\")\n",
    "        print(\"value counts \\n\")\n",
    "        print(dataset[c].value_counts(),\"\\n\")\n",
    "        print(\"=============================================\")\n",
    "        print(\"Missing values: {}\".format(dataset[c].isnull().sum()))"
   ]
  },
  {
   "cell_type": "code",
   "execution_count": 10,
   "metadata": {},
   "outputs": [
    {
     "name": "stdout",
     "output_type": "stream",
     "text": [
      "Summary\n",
      "============\n",
      "count              500\n",
      "unique               2\n",
      "top       Creditworthy\n",
      "freq               358\n",
      "Name: Credit-Application-Result, dtype: object \n",
      "\n"
     ]
    },
    {
     "data": {
      "image/png": "[encoded data removed]",
      "text/plain": [
       "<Figure size 432x288 with 1 Axes>"
      ]
     },
     "metadata": {
      "needs_background": "light"
     },
     "output_type": "display_data"
    },
    {
     "name": "stdout",
     "output_type": "stream",
     "text": [
      "=============================================\n",
      "value counts \n",
      "\n",
      "Creditworthy        358\n",
      "Non-Creditworthy    142\n",
      "Name: Credit-Application-Result, dtype: int64 \n",
      "\n",
      "=============================================\n",
      "Missing values: 0\n"
     ]
    }
   ],
   "source": [
    "explore_cat(dataset, \"Credit-Application-Result\")"
   ]
  },
  {
   "cell_type": "markdown",
   "metadata": {},
   "source": [
    "An exploration of the \"Credit-Application-Result\" column shows there are two unique categories.\n",
    "\n",
    "Those who were \"Creditworthy\" are far more than the \"Non-Creditworthy\" which shows that the data is not balanced.\n",
    "\n",
    "This column however, does not a have a missing value."
   ]
  },
  {
   "cell_type": "code",
   "execution_count": 11,
   "metadata": {},
   "outputs": [
    {
     "name": "stdout",
     "output_type": "stream",
     "text": [
      "Summary\n",
      "============\n",
      "count            500\n",
      "unique             2\n",
      "top       No Account\n",
      "freq             262\n",
      "Name: Account-Balance, dtype: object \n",
      "\n"
     ]
    },
    {
     "data": {
      "image/png": "[encoded data removed]",
      "text/plain": [
       "<Figure size 432x288 with 1 Axes>"
      ]
     },
     "metadata": {
      "needs_background": "light"
     },
     "output_type": "display_data"
    },
    {
     "name": "stdout",
     "output_type": "stream",
     "text": [
      "=============================================\n",
      "value counts \n",
      "\n",
      "No Account      262\n",
      "Some Balance    238\n",
      "Name: Account-Balance, dtype: int64 \n",
      "\n",
      "=============================================\n",
      "Missing values: 0\n"
     ]
    }
   ],
   "source": [
    "explore_cat(dataset, \"Account-Balance\")"
   ]
  },
  {
   "cell_type": "markdown",
   "metadata": {},
   "source": [
    "The difference between those who have \"Some balance\" and those who have \"No account\" is 26 which indicates a fair balance in this variable. \n"
   ]
  },
  {
   "cell_type": "code",
   "execution_count": 12,
   "metadata": {},
   "outputs": [
    {
     "name": "stdout",
     "output_type": "stream",
     "text": [
      "Summary\n",
      "============\n",
      "count         500\n",
      "unique          3\n",
      "top       Paid Up\n",
      "freq          260\n",
      "Name: Payment-Status-of-Previous-Credit, dtype: object \n",
      "\n"
     ]
    },
    {
     "data": {
      "image/png": "[encoded data removed]",
      "text/plain": [
       "<Figure size 432x288 with 1 Axes>"
      ]
     },
     "metadata": {
      "needs_background": "light"
     },
     "output_type": "display_data"
    },
    {
     "name": "stdout",
     "output_type": "stream",
     "text": [
      "=============================================\n",
      "value counts \n",
      "\n",
      "Paid Up                       260\n",
      "No Problems (in this bank)    204\n",
      "Some Problems                  36\n",
      "Name: Payment-Status-of-Previous-Credit, dtype: int64 \n",
      "\n",
      "=============================================\n",
      "Missing values: 0\n"
     ]
    }
   ],
   "source": [
    "explore_cat(dataset, \"Payment-Status-of-Previous-Credit\")"
   ]
  },
  {
   "cell_type": "code",
   "execution_count": 13,
   "metadata": {},
   "outputs": [
    {
     "name": "stdout",
     "output_type": "stream",
     "text": [
      "Summary\n",
      "============\n",
      "count              500\n",
      "unique               4\n",
      "top       Home Related\n",
      "freq               355\n",
      "Name: Purpose, dtype: object \n",
      "\n"
     ]
    },
    {
     "data": {
      "image/png": "[encoded data removed]",
      "text/plain": [
       "<Figure size 432x288 with 1 Axes>"
      ]
     },
     "metadata": {
      "needs_background": "light"
     },
     "output_type": "display_data"
    },
    {
     "name": "stdout",
     "output_type": "stream",
     "text": [
      "=============================================\n",
      "value counts \n",
      "\n",
      "Home Related    355\n",
      "Used car         83\n",
      "New car          47\n",
      "Other            15\n",
      "Name: Purpose, dtype: int64 \n",
      "\n",
      "=============================================\n",
      "Missing values: 0\n"
     ]
    }
   ],
   "source": [
    "explore_cat(dataset, \"Purpose\")"
   ]
  },
  {
   "cell_type": "code",
   "execution_count": 14,
   "metadata": {},
   "outputs": [
    {
     "name": "stdout",
     "output_type": "stream",
     "text": [
      "Summary\n",
      "============\n",
      "count      500\n",
      "unique       3\n",
      "top       None\n",
      "freq       298\n",
      "Name: Value-Savings-Stocks, dtype: object \n",
      "\n"
     ]
    },
    {
     "data": {
      "image/png": "[encoded data removed]",
      "text/plain": [
       "<Figure size 432x288 with 1 Axes>"
      ]
     },
     "metadata": {
      "needs_background": "light"
     },
     "output_type": "display_data"
    },
    {
     "name": "stdout",
     "output_type": "stream",
     "text": [
      "=============================================\n",
      "value counts \n",
      "\n",
      "None          298\n",
      "£100-£1000    154\n",
      "< £100         48\n",
      "Name: Value-Savings-Stocks, dtype: int64 \n",
      "\n",
      "=============================================\n",
      "Missing values: 0\n"
     ]
    }
   ],
   "source": [
    "explore_cat(dataset, \"Value-Savings-Stocks\")\n"
   ]
  },
  {
   "cell_type": "code",
   "execution_count": 15,
   "metadata": {},
   "outputs": [
    {
     "name": "stdout",
     "output_type": "stream",
     "text": [
      "Summary\n",
      "============\n",
      "count       500\n",
      "unique        3\n",
      "top       < 1yr\n",
      "freq        279\n",
      "Name: Length-of-current-employment, dtype: object \n",
      "\n"
     ]
    },
    {
     "data": {
      "image/png": "[encoded data removed]",
      "text/plain": [
       "<Figure size 432x288 with 1 Axes>"
      ]
     },
     "metadata": {
      "needs_background": "light"
     },
     "output_type": "display_data"
    },
    {
     "name": "stdout",
     "output_type": "stream",
     "text": [
      "=============================================\n",
      "value counts \n",
      "\n",
      "< 1yr      279\n",
      "4-7 yrs    124\n",
      "1-4 yrs     97\n",
      "Name: Length-of-current-employment, dtype: int64 \n",
      "\n",
      "=============================================\n",
      "Missing values: 0\n"
     ]
    }
   ],
   "source": [
    "explore_cat(dataset,\"Length-of-current-employment\")\n"
   ]
  },
  {
   "cell_type": "code",
   "execution_count": 16,
   "metadata": {},
   "outputs": [
    {
     "name": "stdout",
     "output_type": "stream",
     "text": [
      "Summary\n",
      "============\n",
      "count      500\n",
      "unique       2\n",
      "top       None\n",
      "freq       457\n",
      "Name: Guarantors, dtype: object \n",
      "\n"
     ]
    },
    {
     "data": {
      "image/png": "[encoded data removed]",
      "text/plain": [
       "<Figure size 432x288 with 1 Axes>"
      ]
     },
     "metadata": {
      "needs_background": "light"
     },
     "output_type": "display_data"
    },
    {
     "name": "stdout",
     "output_type": "stream",
     "text": [
      "=============================================\n",
      "value counts \n",
      "\n",
      "None    457\n",
      "Yes      43\n",
      "Name: Guarantors, dtype: int64 \n",
      "\n",
      "=============================================\n",
      "Missing values: 0\n"
     ]
    }
   ],
   "source": [
    "explore_cat(dataset, \"Guarantors\")"
   ]
  },
  {
   "cell_type": "code",
   "execution_count": 17,
   "metadata": {},
   "outputs": [
    {
     "name": "stdout",
     "output_type": "stream",
     "text": [
      "Summary\n",
      "============\n",
      "count                   500\n",
      "unique                    1\n",
      "top       Other Banks/Depts\n",
      "freq                    500\n",
      "Name: Concurrent-Credits, dtype: object \n",
      "\n"
     ]
    },
    {
     "data": {
      "image/png": "[encoded data removed]",
      "text/plain": [
       "<Figure size 432x288 with 1 Axes>"
      ]
     },
     "metadata": {
      "needs_background": "light"
     },
     "output_type": "display_data"
    },
    {
     "name": "stdout",
     "output_type": "stream",
     "text": [
      "=============================================\n",
      "value counts \n",
      "\n",
      "Other Banks/Depts    500\n",
      "Name: Concurrent-Credits, dtype: int64 \n",
      "\n",
      "=============================================\n",
      "Missing values: 0\n"
     ]
    }
   ],
   "source": [
    "explore_cat(dataset, \"Concurrent-Credits\")"
   ]
  },
  {
   "cell_type": "markdown",
   "metadata": {},
   "source": [
    "The Concurrent-credit variable has only one category which indicates no variability.\n",
    "\n",
    "Due to this it would not be used in the prediction.\n"
   ]
  },
  {
   "cell_type": "code",
   "execution_count": 18,
   "metadata": {},
   "outputs": [
    {
     "name": "stdout",
     "output_type": "stream",
     "text": [
      "Summary\n",
      "============\n",
      "count     500\n",
      "unique      2\n",
      "top         1\n",
      "freq      320\n",
      "Name: No-of-Credits-at-this-Bank, dtype: object \n",
      "\n"
     ]
    },
    {
     "data": {
      "image/png": "[encoded data removed]",
      "text/plain": [
       "<Figure size 432x288 with 1 Axes>"
      ]
     },
     "metadata": {
      "needs_background": "light"
     },
     "output_type": "display_data"
    },
    {
     "name": "stdout",
     "output_type": "stream",
     "text": [
      "=============================================\n",
      "value counts \n",
      "\n",
      "1              320\n",
      "More than 1    180\n",
      "Name: No-of-Credits-at-this-Bank, dtype: int64 \n",
      "\n",
      "=============================================\n",
      "Missing values: 0\n"
     ]
    }
   ],
   "source": [
    "explore_cat(dataset, \"No-of-Credits-at-this-Bank\") "
   ]
  },
  {
   "cell_type": "markdown",
   "metadata": {},
   "source": [
    "#### RELATIONSHIP BETWEEN CATEGORICAL VARIABLES "
   ]
  },
  {
   "cell_type": "code",
   "execution_count": 19,
   "metadata": {},
   "outputs": [],
   "source": [
    "#creating a test function\n",
    "\n",
    "\n",
    "def test_association(df,x,y):\n",
    "    table = pd.crosstab(df[x],df[y])\n",
    "    test = stat()\n",
    "    test.chisq(df = table)\n",
    "    \n",
    "    print(\"Null hypothesis: {} and {} are independent\".format(x,y))\n",
    "    print(\"Alternative hypothesis: {} and {} are dependent\\n\".format(x,y))\n",
    "    print(\"Test results\")\n",
    "    print(\"=\"*50)\n",
    "    print(\"Observed frequency values \\n\")\n",
    "    print(table)\n",
    "    \n",
    " \n",
    "\n",
    "    print(\"*\"*50)\n",
    "    #print(test.expected_dataset)\n",
    "    print(\"*\"*50)\n",
    "    print(test.summary)"
   ]
  },
  {
   "cell_type": "markdown",
   "metadata": {},
   "source": [
    "The general hypothesis is:\n",
    "\n",
    "Null hypothesis: Credit-Application-Result and predictors are independent\n",
    "\n",
    "Alternative hypothesis: Credit-Application-Result and predictors are dependent"
   ]
  },
  {
   "cell_type": "markdown",
   "metadata": {},
   "source": [
    "##### Relationship between Credit-Application-Result and Account-Balance"
   ]
  },
  {
   "cell_type": "code",
   "execution_count": 20,
   "metadata": {
    "scrolled": false
   },
   "outputs": [
    {
     "name": "stdout",
     "output_type": "stream",
     "text": [
      "Null hypothesis: Credit-Application-Result and Account-Balance are independent\n",
      "Alternative hypothesis: Credit-Application-Result and Account-Balance are dependent\n",
      "\n",
      "Test results\n",
      "==================================================\n",
      "Observed frequency values \n",
      "\n",
      "Account-Balance            No Account  Some Balance\n",
      "Credit-Application-Result                          \n",
      "Creditworthy                      152           206\n",
      "Non-Creditworthy                  110            32\n",
      "**************************************************\n",
      "**************************************************\n",
      "\n",
      "Chi-squared test for independence\n",
      "\n",
      "Test              Df    Chi-square      P-value\n",
      "--------------  ----  ------------  -----------\n",
      "Pearson            1       48.5598  3.20374e-12\n",
      "Log-likelihood     1       50.8098  1.01762e-12\n",
      "\n"
     ]
    }
   ],
   "source": [
    "test_association(dataset, \"Credit-Application-Result\",\"Account-Balance\")"
   ]
  },
  {
   "cell_type": "markdown",
   "metadata": {},
   "source": [
    "Given a p-value of 3.20374e-12 at a significance level of 0.05, there is enough evidence to reject the null hypothesis. This implies that there is association between Credit-Application-Result and Account-Balance"
   ]
  },
  {
   "cell_type": "markdown",
   "metadata": {},
   "source": [
    "##### Relationship between Credit-Application-Result and Payment-Status-of-Previous-Credit"
   ]
  },
  {
   "cell_type": "code",
   "execution_count": 21,
   "metadata": {},
   "outputs": [
    {
     "name": "stdout",
     "output_type": "stream",
     "text": [
      "Null hypothesis: Credit-Application-Result and Payment-Status-of-Previous-Credit are independent\n",
      "Alternative hypothesis: Credit-Application-Result and Payment-Status-of-Previous-Credit are dependent\n",
      "\n",
      "Test results\n",
      "==================================================\n",
      "Observed frequency values \n",
      "\n",
      "Payment-Status-of-Previous-Credit  No Problems (in this bank)  Paid Up  \\\n",
      "Credit-Application-Result                                                \n",
      "Creditworthy                                              162      185   \n",
      "Non-Creditworthy                                           42       75   \n",
      "\n",
      "Payment-Status-of-Previous-Credit  Some Problems  \n",
      "Credit-Application-Result                         \n",
      "Creditworthy                                  11  \n",
      "Non-Creditworthy                              25  \n",
      "**************************************************\n",
      "**************************************************\n",
      "\n",
      "Chi-squared test for independence\n",
      "\n",
      "Test              Df    Chi-square      P-value\n",
      "--------------  ----  ------------  -----------\n",
      "Pearson            2       35.9725  1.54411e-08\n",
      "Log-likelihood     2       32.5286  8.63961e-08\n",
      "\n"
     ]
    }
   ],
   "source": [
    "test_association(dataset,\"Credit-Application-Result\",\"Payment-Status-of-Previous-Credit\")"
   ]
  },
  {
   "cell_type": "markdown",
   "metadata": {},
   "source": [
    "Given a p-value of 1.54411e-08 at a significance level of 5%, there is enough evidence to reject the null hypothesis. This implies that there is association between Credit-Application-Result and Payment-Status-of-Previous-Credit\n",
    "\n"
   ]
  },
  {
   "cell_type": "markdown",
   "metadata": {},
   "source": [
    "#### Relationship between Credit-Application-Result and Purpose"
   ]
  },
  {
   "cell_type": "code",
   "execution_count": 22,
   "metadata": {},
   "outputs": [
    {
     "name": "stdout",
     "output_type": "stream",
     "text": [
      "Null hypothesis: Credit-Application-Result and Purpose are independent\n",
      "Alternative hypothesis: Credit-Application-Result and Purpose are dependent\n",
      "\n",
      "Test results\n",
      "==================================================\n",
      "Observed frequency values \n",
      "\n",
      "Purpose                    Home Related  New car  Other  Used car\n",
      "Credit-Application-Result                                        \n",
      "Creditworthy                        244       40     12        62\n",
      "Non-Creditworthy                    111        7      3        21\n",
      "**************************************************\n",
      "**************************************************\n",
      "\n",
      "Chi-squared test for independence\n",
      "\n",
      "Test              Df    Chi-square    P-value\n",
      "--------------  ----  ------------  ---------\n",
      "Pearson            3       6.56448  0.0871538\n",
      "Log-likelihood     3       7.15598  0.0670889\n",
      "\n"
     ]
    }
   ],
   "source": [
    "test_association(dataset,\"Credit-Application-Result\",\"Purpose\")"
   ]
  },
  {
   "cell_type": "markdown",
   "metadata": {},
   "source": [
    "Given a p-value of 0.0871538 at a significance level of 5%, there is not enough evidence to reject the null hypothesis. This implies that there is no association between Credit-Application-Result and Purpose\n"
   ]
  },
  {
   "cell_type": "markdown",
   "metadata": {},
   "source": [
    "##### Relationship between \"Credit-Application-Result\" and \"Value-Savings-Stocks\""
   ]
  },
  {
   "cell_type": "code",
   "execution_count": 23,
   "metadata": {
    "scrolled": false
   },
   "outputs": [
    {
     "name": "stdout",
     "output_type": "stream",
     "text": [
      "Null hypothesis: Credit-Application-Result and Value-Savings-Stocks are independent\n",
      "Alternative hypothesis: Credit-Application-Result and Value-Savings-Stocks are dependent\n",
      "\n",
      "Test results\n",
      "==================================================\n",
      "Observed frequency values \n",
      "\n",
      "Value-Savings-Stocks       < £100  None  £100-£1000\n",
      "Credit-Application-Result                          \n",
      "Creditworthy                   36   195         127\n",
      "Non-Creditworthy               12   103          27\n",
      "**************************************************\n",
      "**************************************************\n",
      "\n",
      "Chi-squared test for independence\n",
      "\n",
      "Test              Df    Chi-square      P-value\n",
      "--------------  ----  ------------  -----------\n",
      "Pearson            2        14.785  0.00061586\n",
      "Log-likelihood     2        15.481  0.000434851\n",
      "\n"
     ]
    }
   ],
   "source": [
    "test_association(dataset,\"Credit-Application-Result\",\"Value-Savings-Stocks\")"
   ]
  },
  {
   "cell_type": "markdown",
   "metadata": {},
   "source": [
    "Given a p-value of 0.00061586 at a significance level of 5%, there is enough evidence to reject the null hypothesis. This implies that there is association between Credit-Application-Result and Value-Savings-Stocks"
   ]
  },
  {
   "cell_type": "markdown",
   "metadata": {},
   "source": [
    "##### Relationship between \"Credit-Application-Result\" and \"Length-of-current-employment\""
   ]
  },
  {
   "cell_type": "code",
   "execution_count": 24,
   "metadata": {},
   "outputs": [
    {
     "name": "stdout",
     "output_type": "stream",
     "text": [
      "Null hypothesis: Credit-Application-Result and Length-of-current-employment are independent\n",
      "Alternative hypothesis: Credit-Application-Result and Length-of-current-employment are dependent\n",
      "\n",
      "Test results\n",
      "==================================================\n",
      "Observed frequency values \n",
      "\n",
      "Length-of-current-employment  1-4 yrs  4-7 yrs  < 1yr\n",
      "Credit-Application-Result                            \n",
      "Creditworthy                       76       94    188\n",
      "Non-Creditworthy                   21       30     91\n",
      "**************************************************\n",
      "**************************************************\n",
      "\n",
      "Chi-squared test for independence\n",
      "\n",
      "Test              Df    Chi-square    P-value\n",
      "--------------  ----  ------------  ---------\n",
      "Pearson            2       5.69213  0.0580725\n",
      "Log-likelihood     2       5.78294  0.0554945\n",
      "\n"
     ]
    }
   ],
   "source": [
    "test_association(dataset,\"Credit-Application-Result\",\"Length-of-current-employment\")"
   ]
  },
  {
   "cell_type": "markdown",
   "metadata": {},
   "source": [
    "##### Relationship between \"Credit-Application-Result\",\"Guarantors\""
   ]
  },
  {
   "cell_type": "code",
   "execution_count": 25,
   "metadata": {
    "scrolled": true
   },
   "outputs": [
    {
     "name": "stdout",
     "output_type": "stream",
     "text": [
      "Null hypothesis: Credit-Application-Result and Guarantors are independent\n",
      "Alternative hypothesis: Credit-Application-Result and Guarantors are dependent\n",
      "\n",
      "Test results\n",
      "==================================================\n",
      "Observed frequency values \n",
      "\n",
      "Guarantors                 None  Yes\n",
      "Credit-Application-Result           \n",
      "Creditworthy                330   28\n",
      "Non-Creditworthy            127   15\n",
      "**************************************************\n",
      "**************************************************\n",
      "\n",
      "Chi-squared test for independence\n",
      "\n",
      "Test              Df    Chi-square    P-value\n",
      "--------------  ----  ------------  ---------\n",
      "Pearson            1      0.655037   0.418317\n",
      "Log-likelihood     1      0.635101   0.425491\n",
      "\n"
     ]
    }
   ],
   "source": [
    "test_association(dataset,\"Credit-Application-Result\",\"Guarantors\")"
   ]
  },
  {
   "cell_type": "markdown",
   "metadata": {},
   "source": [
    "##### Relationship between \"Credit-Application-Result\" and \"Concurrent-Credits\""
   ]
  },
  {
   "cell_type": "code",
   "execution_count": 26,
   "metadata": {
    "scrolled": true
   },
   "outputs": [
    {
     "name": "stdout",
     "output_type": "stream",
     "text": [
      "Null hypothesis: Credit-Application-Result and Concurrent-Credits are independent\n",
      "Alternative hypothesis: Credit-Application-Result and Concurrent-Credits are dependent\n",
      "\n",
      "Test results\n",
      "==================================================\n",
      "Observed frequency values \n",
      "\n",
      "Concurrent-Credits         Other Banks/Depts\n",
      "Credit-Application-Result                   \n",
      "Creditworthy                             358\n",
      "Non-Creditworthy                         142\n",
      "**************************************************\n",
      "**************************************************\n",
      "\n",
      "Chi-squared test for independence\n",
      "\n",
      "Test              Df    Chi-square    P-value\n",
      "--------------  ----  ------------  ---------\n",
      "Pearson            0             0          1\n",
      "Log-likelihood     0             0          1\n",
      "\n"
     ]
    }
   ],
   "source": [
    "test_association(dataset,\"Credit-Application-Result\",\"Concurrent-Credits\")"
   ]
  },
  {
   "cell_type": "markdown",
   "metadata": {},
   "source": [
    "##### Relationship between \"Credit-Application-Result\" and \"No-of-Credits-at-this-Bank\""
   ]
  },
  {
   "cell_type": "code",
   "execution_count": 27,
   "metadata": {},
   "outputs": [
    {
     "name": "stdout",
     "output_type": "stream",
     "text": [
      "Null hypothesis: Credit-Application-Result and No-of-Credits-at-this-Bank are independent\n",
      "Alternative hypothesis: Credit-Application-Result and No-of-Credits-at-this-Bank are dependent\n",
      "\n",
      "Test results\n",
      "==================================================\n",
      "Observed frequency values \n",
      "\n",
      "No-of-Credits-at-this-Bank    1  More than 1\n",
      "Credit-Application-Result                   \n",
      "Creditworthy                223          135\n",
      "Non-Creditworthy             97           45\n",
      "**************************************************\n",
      "**************************************************\n",
      "\n",
      "Chi-squared test for independence\n",
      "\n",
      "Test              Df    Chi-square    P-value\n",
      "--------------  ----  ------------  ---------\n",
      "Pearson            1       1.34831   0.245574\n",
      "Log-likelihood     1       1.36299   0.243021\n",
      "\n"
     ]
    }
   ],
   "source": [
    "test_association(dataset,\"Credit-Application-Result\",\"No-of-Credits-at-this-Bank\")"
   ]
  },
  {
   "cell_type": "markdown",
   "metadata": {},
   "source": [
    "#### NUMERICAL VARIABLE EXPLORATION"
   ]
  },
  {
   "cell_type": "code",
   "execution_count": 28,
   "metadata": {
    "scrolled": true
   },
   "outputs": [
    {
     "name": "stdout",
     "output_type": "stream",
     "text": [
      "Duration-of-Credit-Month\n",
      "Credit-Amount\n",
      "Instalment-per-cent\n",
      "Duration-in-Current-address\n",
      "Most-valuable-available-asset\n",
      "Age-years\n",
      "Type-of-apartment\n",
      "Occupation\n",
      "No-of-dependents\n",
      "Telephone\n",
      "Foreign-Worker\n"
     ]
    }
   ],
   "source": [
    "# Numerical variables\n",
    "\n",
    "for col in numerical_var.columns:\n",
    "    print(col)"
   ]
  },
  {
   "cell_type": "markdown",
   "metadata": {},
   "source": [
    "PLOTTING BOX PLOTS AND HISTOGRAMS TO CHECK THE DISTRIBUSTION OF NUMERICAL VARIABLES"
   ]
  },
  {
   "cell_type": "code",
   "execution_count": 29,
   "metadata": {},
   "outputs": [],
   "source": [
    "def numerical_explore(dataset,x):\n",
    "    print(\"Summary Statistics \\n\")\n",
    "    print(dataset[x].apply([len,min,max,np.median,np.mean,np.std]))\n",
    "    print(\"=\"*20)\n",
    "    print(\"Missing values: {}\".format(dataset[x].isnull().sum()))\n",
    "    print(\"=\"*20)\n",
    "    \n",
    "    fig = plt.figure(figsize=(6,3))\n",
    "    \n",
    "    \n",
    "    bp = fig.add_subplot()\n",
    "    bp.set_title(\"Box Plot\")\n",
    "    sns.boxplot(dataset.loc[:,x], orient = \"v\", ax = bp)\n",
    "    plt.show()\n",
    "\n",
    "    \n",
    "    # plotting a histogram\n",
    "    \n",
    "    plt.subplot(1,2,2)\n",
    "    plt.hist(dataset[x])\n",
    "    plt.title(\"Histogram\")\n",
    "    plt.tight_layout()\n",
    "    plt.show()\n",
    "    \n",
    "    "
   ]
  },
  {
   "cell_type": "code",
   "execution_count": 30,
   "metadata": {},
   "outputs": [
    {
     "name": "stdout",
     "output_type": "stream",
     "text": [
      "Summary Statistics \n",
      "\n",
      "len       500.00000\n",
      "min         4.00000\n",
      "max        60.00000\n",
      "median     18.00000\n",
      "mean       21.43400\n",
      "std        12.30742\n",
      "Name: Duration-of-Credit-Month, dtype: float64\n",
      "====================\n",
      "Missing values: 0\n",
      "====================\n"
     ]
    },
    {
     "data": {
      "image/png": "[encoded data removed]",
      "text/plain": [
       "<Figure size 432x216 with 1 Axes>"
      ]
     },
     "metadata": {
      "needs_background": "light"
     },
     "output_type": "display_data"
    },
    {
     "data": {
      "image/png": "[encoded data removed]",
      "text/plain": [
       "<Figure size 432x288 with 1 Axes>"
      ]
     },
     "metadata": {
      "needs_background": "light"
     },
     "output_type": "display_data"
    }
   ],
   "source": [
    "numerical_explore(dataset, \"Duration-of-Credit-Month\")\n"
   ]
  },
  {
   "cell_type": "code",
   "execution_count": 31,
   "metadata": {},
   "outputs": [
    {
     "name": "stdout",
     "output_type": "stream",
     "text": [
      "Summary Statistics \n",
      "\n",
      "len       500.000000\n",
      "min         1.000000\n",
      "max         4.000000\n",
      "median      3.000000\n",
      "mean        3.010000\n",
      "std         1.113724\n",
      "Name: Instalment-per-cent, dtype: float64\n",
      "====================\n",
      "Missing values: 0\n",
      "====================\n"
     ]
    },
    {
     "data": {
      "image/png": "[encoded data removed]",
      "text/plain": [
       "<Figure size 432x216 with 1 Axes>"
      ]
     },
     "metadata": {
      "needs_background": "light"
     },
     "output_type": "display_data"
    },
    {
     "data": {
      "image/png": "[encoded data removed]",
      "text/plain": [
       "<Figure size 432x288 with 1 Axes>"
      ]
     },
     "metadata": {
      "needs_background": "light"
     },
     "output_type": "display_data"
    }
   ],
   "source": [
    "numerical_explore(dataset, \"Instalment-per-cent\")\n"
   ]
  },
  {
   "cell_type": "code",
   "execution_count": 32,
   "metadata": {},
   "outputs": [
    {
     "name": "stdout",
     "output_type": "stream",
     "text": [
      "Summary Statistics \n",
      "\n",
      "len         500.000000\n",
      "min         276.000000\n",
      "max       18424.000000\n",
      "median     2236.500000\n",
      "mean       3199.980000\n",
      "std        2831.386861\n",
      "Name: Credit-Amount, dtype: float64\n",
      "====================\n",
      "Missing values: 0\n",
      "====================\n"
     ]
    },
    {
     "data": {
      "image/png": "[encoded data removed]",
      "text/plain": [
       "<Figure size 432x216 with 1 Axes>"
      ]
     },
     "metadata": {
      "needs_background": "light"
     },
     "output_type": "display_data"
    },
    {
     "data": {
      "image/png": "[encoded data removed]",
      "text/plain": [
       "<Figure size 432x288 with 1 Axes>"
      ]
     },
     "metadata": {
      "needs_background": "light"
     },
     "output_type": "display_data"
    }
   ],
   "source": [
    "numerical_explore(dataset, \"Credit-Amount\")\n"
   ]
  },
  {
   "cell_type": "code",
   "execution_count": 33,
   "metadata": {},
   "outputs": [
    {
     "name": "stdout",
     "output_type": "stream",
     "text": [
      "Summary Statistics \n",
      "\n",
      "len       500.000000\n",
      "min         1.000000\n",
      "max         4.000000\n",
      "median      2.000000\n",
      "mean        2.660256\n",
      "std         1.150017\n",
      "Name: Duration-in-Current-address, dtype: float64\n",
      "====================\n",
      "Missing values: 344\n",
      "====================\n"
     ]
    },
    {
     "data": {
      "image/png": "[encoded data removed]",
      "text/plain": [
       "<Figure size 432x216 with 1 Axes>"
      ]
     },
     "metadata": {
      "needs_background": "light"
     },
     "output_type": "display_data"
    },
    {
     "data": {
      "image/png": "[encoded data removed]",
      "text/plain": [
       "<Figure size 432x288 with 1 Axes>"
      ]
     },
     "metadata": {
      "needs_background": "light"
     },
     "output_type": "display_data"
    }
   ],
   "source": [
    "numerical_explore(dataset, \"Duration-in-Current-address\")"
   ]
  },
  {
   "cell_type": "code",
   "execution_count": 34,
   "metadata": {},
   "outputs": [
    {
     "name": "stdout",
     "output_type": "stream",
     "text": [
      "Summary Statistics \n",
      "\n",
      "len       500.000000\n",
      "min         1.000000\n",
      "max         4.000000\n",
      "median      3.000000\n",
      "mean        2.360000\n",
      "std         1.064268\n",
      "Name: Most-valuable-available-asset, dtype: float64\n",
      "====================\n",
      "Missing values: 0\n",
      "====================\n"
     ]
    },
    {
     "data": {
      "image/png": "[encoded data removed]",
      "text/plain": [
       "<Figure size 432x216 with 1 Axes>"
      ]
     },
     "metadata": {
      "needs_background": "light"
     },
     "output_type": "display_data"
    },
    {
     "data": {
      "image/png": "[encoded data removed]",
      "text/plain": [
       "<Figure size 432x288 with 1 Axes>"
      ]
     },
     "metadata": {
      "needs_background": "light"
     },
     "output_type": "display_data"
    }
   ],
   "source": [
    "numerical_explore(dataset, \"Most-valuable-available-asset\")"
   ]
  },
  {
   "cell_type": "code",
   "execution_count": 35,
   "metadata": {},
   "outputs": [
    {
     "name": "stdout",
     "output_type": "stream",
     "text": [
      "Summary Statistics \n",
      "\n",
      "len       500.000000\n",
      "min        19.000000\n",
      "max        75.000000\n",
      "median     33.000000\n",
      "mean       35.637295\n",
      "std        11.501522\n",
      "Name: Age-years, dtype: float64\n",
      "====================\n",
      "Missing values: 12\n",
      "====================\n"
     ]
    },
    {
     "data": {
      "image/png": "[encoded data removed]",
      "text/plain": [
       "<Figure size 432x216 with 1 Axes>"
      ]
     },
     "metadata": {
      "needs_background": "light"
     },
     "output_type": "display_data"
    },
    {
     "data": {
      "image/png": "[encoded data removed]",
      "text/plain": [
       "<Figure size 432x288 with 1 Axes>"
      ]
     },
     "metadata": {
      "needs_background": "light"
     },
     "output_type": "display_data"
    }
   ],
   "source": [
    "numerical_explore(dataset, \"Age-years\")"
   ]
  },
  {
   "cell_type": "code",
   "execution_count": 36,
   "metadata": {},
   "outputs": [
    {
     "name": "stdout",
     "output_type": "stream",
     "text": [
      "Summary Statistics \n",
      "\n",
      "len       500.000000\n",
      "min         1.000000\n",
      "max         3.000000\n",
      "median      2.000000\n",
      "mean        1.928000\n",
      "std         0.539814\n",
      "Name: Type-of-apartment, dtype: float64\n",
      "====================\n",
      "Missing values: 0\n",
      "====================\n"
     ]
    },
    {
     "data": {
      "image/png": "[encoded data removed]",
      "text/plain": [
       "<Figure size 432x216 with 1 Axes>"
      ]
     },
     "metadata": {
      "needs_background": "light"
     },
     "output_type": "display_data"
    },
    {
     "data": {
      "image/png": "[encoded data removed]",
      "text/plain": [
       "<Figure size 432x288 with 1 Axes>"
      ]
     },
     "metadata": {
      "needs_background": "light"
     },
     "output_type": "display_data"
    }
   ],
   "source": [
    "numerical_explore(dataset, \"Type-of-apartment\")"
   ]
  },
  {
   "cell_type": "code",
   "execution_count": 37,
   "metadata": {},
   "outputs": [
    {
     "name": "stdout",
     "output_type": "stream",
     "text": [
      "Summary Statistics \n",
      "\n",
      "len       500.0\n",
      "min         1.0\n",
      "max         1.0\n",
      "median      1.0\n",
      "mean        1.0\n",
      "std         0.0\n",
      "Name: Occupation, dtype: float64\n",
      "====================\n",
      "Missing values: 0\n",
      "====================\n"
     ]
    },
    {
     "data": {
      "image/png": "[encoded data removed]",
      "text/plain": [
       "<Figure size 432x216 with 1 Axes>"
      ]
     },
     "metadata": {
      "needs_background": "light"
     },
     "output_type": "display_data"
    },
    {
     "data": {
      "image/png": "[encoded data removed]",
      "text/plain": [
       "<Figure size 432x288 with 1 Axes>"
      ]
     },
     "metadata": {
      "needs_background": "light"
     },
     "output_type": "display_data"
    }
   ],
   "source": [
    "numerical_explore(dataset, \"Occupation\")\n"
   ]
  },
  {
   "cell_type": "code",
   "execution_count": 38,
   "metadata": {},
   "outputs": [
    {
     "name": "stdout",
     "output_type": "stream",
     "text": [
      "Summary Statistics \n",
      "\n",
      "len       500.000000\n",
      "min         1.000000\n",
      "max         2.000000\n",
      "median      1.000000\n",
      "mean        1.400000\n",
      "std         0.490389\n",
      "Name: Telephone, dtype: float64\n",
      "====================\n",
      "Missing values: 0\n",
      "====================\n"
     ]
    },
    {
     "data": {
      "image/png": "[encoded data removed]",
      "text/plain": [
       "<Figure size 432x216 with 1 Axes>"
      ]
     },
     "metadata": {
      "needs_background": "light"
     },
     "output_type": "display_data"
    },
    {
     "data": {
      "image/png": "[encoded data removed]",
      "text/plain": [
       "<Figure size 432x288 with 1 Axes>"
      ]
     },
     "metadata": {
      "needs_background": "light"
     },
     "output_type": "display_data"
    }
   ],
   "source": [
    "numerical_explore(dataset, \"Telephone\")"
   ]
  },
  {
   "cell_type": "code",
   "execution_count": 39,
   "metadata": {},
   "outputs": [
    {
     "name": "stdout",
     "output_type": "stream",
     "text": [
      "Summary Statistics \n",
      "\n",
      "len       500.000000\n",
      "min         1.000000\n",
      "max         2.000000\n",
      "median      1.000000\n",
      "mean        1.038000\n",
      "std         0.191388\n",
      "Name: Foreign-Worker, dtype: float64\n",
      "====================\n",
      "Missing values: 0\n",
      "====================\n"
     ]
    },
    {
     "data": {
      "image/png": "[encoded data removed]",
      "text/plain": [
       "<Figure size 432x216 with 1 Axes>"
      ]
     },
     "metadata": {
      "needs_background": "light"
     },
     "output_type": "display_data"
    },
    {
     "data": {
      "image/png": "[encoded data removed]",
      "text/plain": [
       "<Figure size 432x288 with 1 Axes>"
      ]
     },
     "metadata": {
      "needs_background": "light"
     },
     "output_type": "display_data"
    }
   ],
   "source": [
    "numerical_explore(dataset, \"Foreign-Worker\")"
   ]
  },
  {
   "cell_type": "markdown",
   "metadata": {},
   "source": [
    "#### CHECKING FOR CORRELATION BETWEEN NUMERICAL VARIABLES\n"
   ]
  },
  {
   "cell_type": "code",
   "execution_count": 40,
   "metadata": {},
   "outputs": [],
   "source": [
    "cor = numerical_var.corr()"
   ]
  },
  {
   "cell_type": "code",
   "execution_count": 41,
   "metadata": {},
   "outputs": [
    {
     "ename": "SyntaxError",
     "evalue": "invalid syntax (<ipython-input-41-a510dbce6fca>, line 3)",
     "output_type": "error",
     "traceback": [
      "\u001b[1;36m  File \u001b[1;32m\"<ipython-input-41-a510dbce6fca>\"\u001b[1;36m, line \u001b[1;32m3\u001b[0m\n\u001b[1;33m    sns.heatmap(cor, annot = True, cmap = 'cool', mask = )\u001b[0m\n\u001b[1;37m                                                         ^\u001b[0m\n\u001b[1;31mSyntaxError\u001b[0m\u001b[1;31m:\u001b[0m invalid syntax\n"
     ]
    }
   ],
   "source": [
    "plt.figure(figsize = (10,7))\n",
    "matrix = np.triu(cor)\n",
    "sns.heatmap(cor, annot = True, cmap = 'cool', mask = )\n",
    "plt.title(\"Heatmap showing the correlation between the variables\")\n",
    "plt.show()\n",
    "\n",
    "\n",
    "\n",
    "# #creating a mask to keep only the half of the correlation table\n",
    "\n",
    "# mask =np.triu(np.ones_like(cor,dtype = bool))\n",
    "# plt.heatmap(cor, annot = cor, mask= mask,cmap = \"Jet\", linewidths= 1, fmt =\".2f\",cbar_kws = (\"shrink\": .8))"
   ]
  },
  {
   "cell_type": "markdown",
   "metadata": {},
   "source": [
    "### Replacing the missing values of the Age-years variable with the median of ages"
   ]
  },
  {
   "cell_type": "code",
   "execution_count": null,
   "metadata": {},
   "outputs": [],
   "source": [
    "dataset['Age-years'].fillna(np.round(dataset['Age-years'].median(), 0), inplace=True)"
   ]
  },
  {
   "cell_type": "code",
   "execution_count": null,
   "metadata": {},
   "outputs": [],
   "source": [
    "dataset.head(4)"
   ]
  },
  {
   "cell_type": "markdown",
   "metadata": {},
   "source": [
    "## DATA PREPROCESSING FOR MODELLING"
   ]
  },
  {
   "cell_type": "code",
   "execution_count": null,
   "metadata": {},
   "outputs": [],
   "source": [
    "dataset.drop(columns=['Occupation', 'Telephone','Concurrent-Credits',\\\n",
    "                        'Duration-in-Current-address','Guarantors',\\\n",
    "                       'No-of-dependents','Foreign-Worker'], axis=1, inplace = True)"
   ]
  },
  {
   "cell_type": "code",
   "execution_count": null,
   "metadata": {},
   "outputs": [],
   "source": [
    "dataset.head(3)"
   ]
  },
  {
   "cell_type": "code",
   "execution_count": null,
   "metadata": {},
   "outputs": [],
   "source": [
    "# counting the different variables under the Purpose column.\n",
    "dataset[\"Purpose\"].value_counts()"
   ]
  },
  {
   "cell_type": "code",
   "execution_count": null,
   "metadata": {},
   "outputs": [],
   "source": [
    "# replacing the\"other\" values with \"Used cars\"\n",
    "dataset[\"Purpose\"].replace({\"Other\":\"Used car\"},inplace=True) "
   ]
  },
  {
   "cell_type": "code",
   "execution_count": null,
   "metadata": {},
   "outputs": [],
   "source": [
    "dataset['Purpose'].value_counts()"
   ]
  },
  {
   "cell_type": "markdown",
   "metadata": {},
   "source": [
    "#### Converting categorical variables into dummies "
   ]
  },
  {
   "cell_type": "code",
   "execution_count": null,
   "metadata": {},
   "outputs": [],
   "source": [
    "dataset1= pd.get_dummies(dataset, columns = ['Credit-Application-Result', 'Account-Balance',\n",
    "       'Payment-Status-of-Previous-Credit', 'Purpose', 'Value-Savings-Stocks',\n",
    "       'Length-of-current-employment','No-of-Credits-at-this-Bank'], drop_first = True)"
   ]
  },
  {
   "cell_type": "code",
   "execution_count": null,
   "metadata": {
    "scrolled": false
   },
   "outputs": [],
   "source": [
    "dataset1.info()"
   ]
  },
  {
   "cell_type": "code",
   "execution_count": null,
   "metadata": {},
   "outputs": [],
   "source": [
    "dataset.head(3)"
   ]
  },
  {
   "cell_type": "markdown",
   "metadata": {},
   "source": [
    "#### Splitting the data into Target Variable and Predictors"
   ]
  },
  {
   "cell_type": "code",
   "execution_count": null,
   "metadata": {},
   "outputs": [],
   "source": [
    "X = dataset1.drop(['Credit-Application-Result_Non-Creditworthy'], axis=1)\n",
    "y = dataset1['Credit-Application-Result_Non-Creditworthy']"
   ]
  },
  {
   "cell_type": "code",
   "execution_count": null,
   "metadata": {},
   "outputs": [],
   "source": []
  },
  {
   "cell_type": "markdown",
   "metadata": {},
   "source": [
    "#### Splitting the data into train and test set"
   ]
  },
  {
   "cell_type": "code",
   "execution_count": null,
   "metadata": {},
   "outputs": [],
   "source": [
    "X_train, X_test, y_train, y_test = train_test_split(X, y, test_size =0.30, stratify=y,random_state=42)\n",
    "\n",
    "print(X_train.shape, y_train.shape)\n",
    "print(X_test.shape, y_test.shape)"
   ]
  },
  {
   "cell_type": "markdown",
   "metadata": {},
   "source": [
    "## MODELLING \n"
   ]
  },
  {
   "cell_type": "markdown",
   "metadata": {},
   "source": [
    "### 1. DECISION TREE CLASSIFIER\n"
   ]
  },
  {
   "cell_type": "code",
   "execution_count": null,
   "metadata": {},
   "outputs": [],
   "source": [
    "# Tunning the hyper parameter with gridsearch and cross validation\n",
    "\n",
    "# Instantiating the model\n",
    "\n",
    "tree = DecisionTreeClassifier(random_state = 0)\n",
    "param_grid = {\"max_features\": [1,2,3,4,5,6,7,8,9,10], \"max_leaf_nodes\":[1,2,3,4,5,6,7,8,9,10]}\n",
    "grid_tree = GridSearchCV(tree,param_grid = param_grid, cv = 6)\n",
    "grid_tree.fit(X_train,y_train)\n",
    "\n",
    "print(\"Best Cross-Validation Accuracy and Parameter\")\n",
    "print(\"*********************************************************\")\n",
    "print(\"Best cross-validation accuracy: {:.2f}\".format(grid_tree.best_score_))\n",
    "print(\"Best parameter:\", grid_tree.best_params_)\n",
    "print(\"*********************************************************\")"
   ]
  },
  {
   "cell_type": "code",
   "execution_count": 45,
   "metadata": {},
   "outputs": [
    {
     "ename": "NameError",
     "evalue": "name 'X_train' is not defined",
     "output_type": "error",
     "traceback": [
      "\u001b[1;31m---------------------------------------------------------------------------\u001b[0m",
      "\u001b[1;31mNameError\u001b[0m                                 Traceback (most recent call last)",
      "\u001b[1;32m<ipython-input-45-264088e145d1>\u001b[0m in \u001b[0;36m<module>\u001b[1;34m\u001b[0m\n\u001b[0;32m      3\u001b[0m \u001b[1;33m\u001b[0m\u001b[0m\n\u001b[0;32m      4\u001b[0m \u001b[1;31m# fitting the model\u001b[0m\u001b[1;33m\u001b[0m\u001b[1;33m\u001b[0m\u001b[1;33m\u001b[0m\u001b[0m\n\u001b[1;32m----> 5\u001b[1;33m \u001b[0mtree\u001b[0m\u001b[1;33m.\u001b[0m\u001b[0mfit\u001b[0m\u001b[1;33m(\u001b[0m\u001b[0mX_train\u001b[0m\u001b[1;33m,\u001b[0m\u001b[0my_train\u001b[0m\u001b[1;33m)\u001b[0m\u001b[1;33m\u001b[0m\u001b[1;33m\u001b[0m\u001b[0m\n\u001b[0m\u001b[0;32m      6\u001b[0m \u001b[1;33m\u001b[0m\u001b[0m\n\u001b[0;32m      7\u001b[0m \u001b[1;31m#accuracies of train and test scores\u001b[0m\u001b[1;33m\u001b[0m\u001b[1;33m\u001b[0m\u001b[1;33m\u001b[0m\u001b[0m\n",
      "\u001b[1;31mNameError\u001b[0m: name 'X_train' is not defined"
     ]
    }
   ],
   "source": [
    "# Instantiating the modelling by incorporating the best parameters\n",
    "tree = DecisionTreeClassifier(max_features = 4, max_leaf_nodes = 5,random_state = 0)\n",
    "\n",
    "# fitting the model \n",
    "tree.fit(X_train,y_train)\n",
    "\n",
    "#accuracies of train and test scores\n",
    "tr_acc = tree.score(X_train,y_train)\n",
    "te_acc = tree.score(X_test,y_test)\n",
    "\n",
    "print(\"train accuracy: {:.2f}\".format(tr_acc))\n",
    "print(\"test_accuracy: {:.2f}\".format(te_acc))\n",
    "\n",
    "print(\"Percentage of overfitting: {:.2f}%\".format(((tr_acc-te_acc)/tr_acc*100)))\n",
    "tree_prediction = grid_tree.predict(X_test)"
   ]
  },
  {
   "cell_type": "markdown",
   "metadata": {},
   "source": [
    "### 2. LOGISTIC REGRESSION\n"
   ]
  },
  {
   "cell_type": "code",
   "execution_count": 44,
   "metadata": {},
   "outputs": [
    {
     "ename": "NameError",
     "evalue": "name 'X_train' is not defined",
     "output_type": "error",
     "traceback": [
      "\u001b[1;31m---------------------------------------------------------------------------\u001b[0m",
      "\u001b[1;31mNameError\u001b[0m                                 Traceback (most recent call last)",
      "\u001b[1;32m<ipython-input-44-c6c4a092203e>\u001b[0m in \u001b[0;36m<module>\u001b[1;34m\u001b[0m\n\u001b[0;32m      6\u001b[0m \u001b[0mparam_grid\u001b[0m \u001b[1;33m=\u001b[0m \u001b[1;33m{\u001b[0m\u001b[1;34m'C'\u001b[0m\u001b[1;33m:\u001b[0m\u001b[1;33m[\u001b[0m\u001b[1;36m0.01\u001b[0m\u001b[1;33m,\u001b[0m\u001b[1;36m0.05\u001b[0m\u001b[1;33m,\u001b[0m\u001b[1;36m0.5\u001b[0m\u001b[1;33m,\u001b[0m\u001b[1;36m0.1\u001b[0m\u001b[1;33m,\u001b[0m\u001b[1;36m1\u001b[0m\u001b[1;33m,\u001b[0m\u001b[1;36m5\u001b[0m\u001b[1;33m,\u001b[0m\u001b[1;36m10\u001b[0m\u001b[1;33m,\u001b[0m\u001b[1;36m50\u001b[0m\u001b[1;33m,\u001b[0m\u001b[1;36m70\u001b[0m\u001b[1;33m,\u001b[0m\u001b[1;36m100\u001b[0m\u001b[1;33m]\u001b[0m\u001b[1;33m}\u001b[0m\u001b[1;33m\u001b[0m\u001b[1;33m\u001b[0m\u001b[0m\n\u001b[0;32m      7\u001b[0m \u001b[0mgrid_lr\u001b[0m \u001b[1;33m=\u001b[0m \u001b[0mGridSearchCV\u001b[0m\u001b[1;33m(\u001b[0m\u001b[0mlrg\u001b[0m\u001b[1;33m,\u001b[0m \u001b[0mparam_grid\u001b[0m\u001b[1;33m,\u001b[0m \u001b[0mcv\u001b[0m \u001b[1;33m=\u001b[0m \u001b[1;36m6\u001b[0m\u001b[1;33m)\u001b[0m\u001b[1;33m\u001b[0m\u001b[1;33m\u001b[0m\u001b[0m\n\u001b[1;32m----> 8\u001b[1;33m \u001b[0mgrid_lr\u001b[0m\u001b[1;33m.\u001b[0m\u001b[0mfit\u001b[0m\u001b[1;33m(\u001b[0m\u001b[0mX_train\u001b[0m\u001b[1;33m,\u001b[0m \u001b[0my_train\u001b[0m\u001b[1;33m)\u001b[0m\u001b[1;33m\u001b[0m\u001b[1;33m\u001b[0m\u001b[0m\n\u001b[0m\u001b[0;32m      9\u001b[0m \u001b[1;33m\u001b[0m\u001b[0m\n\u001b[0;32m     10\u001b[0m \u001b[0mprint\u001b[0m\u001b[1;33m(\u001b[0m\u001b[1;34m\"Best Cross-Validation Accuracy and Parameter\"\u001b[0m\u001b[1;33m)\u001b[0m\u001b[1;33m\u001b[0m\u001b[1;33m\u001b[0m\u001b[0m\n",
      "\u001b[1;31mNameError\u001b[0m: name 'X_train' is not defined"
     ]
    }
   ],
   "source": [
    "# hyperparameter tunning with grid search and cross validation for Logistic regression\n",
    "\n",
    "# instantiating the logistic regression model\n",
    "\n",
    "lrg = LogisticRegression()\n",
    "param_grid = {'C':[0.01,0.05,0.5,0.1,1,5,10,50,70,100]}\n",
    "grid_lr = GridSearchCV(lrg, param_grid, cv = 6)\n",
    "grid_lr.fit(X_train, y_train)\n",
    "\n",
    "print(\"Best Cross-Validation Accuracy and Parameter\")\n",
    "print(\"*********************************************************\")\n",
    "print(\"Best cross-validation accuracy: {:.2f}\".format(grid_lr.best_score_))\n",
    "print(\"Best parameter:\", grid_lr.best_params_)\n",
    "print(\"*********************************************************\")\n"
   ]
  },
  {
   "cell_type": "code",
   "execution_count": null,
   "metadata": {},
   "outputs": [],
   "source": [
    "# Logistic Regression with tuned hyper-parameter\n",
    "\n",
    "# instantiating the Logistic Regression\n",
    "lrg = LogisticRegression( C = 10)\n",
    "\n",
    "# fitting the model\n",
    "lrg.fit(X_train, y_train)\n",
    "\n",
    "# accuracy score for train and test\n",
    "\n",
    "lrg_train_acc = lrg.score(X_train, y_train)\n",
    "lrg_test_acc = lrg.score(X_test, y_test)\n",
    "\n",
    "print(\"Train Accuracy: {:.2f}\".format(lrg_train_acc))\n",
    "print(\"Test Accuracy: {:.2f} \".format(lrg_test_acc))\n",
    "print(\"Percentage of overfitting {:.2f}%\".format(((lrg_train_acc-lrg_test_acc)/lrg_train_acc*100)))\n",
    "\n",
    "lrg_prediction=grid_lr.predict(X_test)"
   ]
  },
  {
   "cell_type": "markdown",
   "metadata": {},
   "source": [
    "### 3. SUPPORT VECTOR MACHINE"
   ]
  },
  {
   "cell_type": "code",
   "execution_count": null,
   "metadata": {},
   "outputs": [],
   "source": [
    "# hyperparameter tuning with pipeline\n",
    "# the pipeline was used here because there was the need for the data to be scaled before the model is applied on it.\n",
    "# the standardscaler will be used in this instance. \n",
    "\n",
    "pipe  = Pipeline([(\"Scaler\", StandardScaler()), (\"SVC\", SVC(probability=True))])\n",
    "param_grid = {\"SVC__C\":[0.001,0.01,0.1,1,10,100], \"SVC__gamma\":[0.001, 0.01,0.1,1,10,100]}\n",
    "grid_svc = GridSearchCV(pipe, param_grid = param_grid, cv = 6)\n",
    "grid_svc.fit(X_train, y_train)\n",
    "\n",
    "print(\"Best Cross-Validation Accuracy and Parameter\")\n",
    "print(\"*********************************************************\")\n",
    "print(\"Best cross-validation accuracy: {:.2f}\".format(grid_svc.best_score_))\n",
    "print(\"Best parameter:\", grid_svc.best_params_)\n",
    "print(\"*********************************************************\")"
   ]
  },
  {
   "cell_type": "code",
   "execution_count": null,
   "metadata": {},
   "outputs": [],
   "source": [
    "# modelling with SVC using tuned hyperparaeter\n",
    "\n",
    "# instantiating the SVC model\n",
    "svc = Pipeline([(\"Scaler\",StandardScaler()), (\"SVC\",SVC(C=100,gamma=0.001,probability=True))])\n",
    "svc_model = svc.fit(X_train,y_train)\n",
    "\n",
    "svc_train_score = svc.score(X_train, y_train)\n",
    "svc_test_score = svc.score(X_test, y_test)\n",
    "\n",
    "print(\"Train Accuracy: {:.2f}\".format(svc_train_score))\n",
    "print(\"Test Accuracy: {:.2f} \".format(svc_test_score))\n",
    "print(\"Percentage of overfitting {:.2f}%\".format(((svc_train_score-svc_test_score)/svc_train_score*100)))\n",
    "\n",
    "svc_prediction=grid_svc.predict(X_test)"
   ]
  },
  {
   "cell_type": "markdown",
   "metadata": {},
   "source": [
    "### 4. RANDOM FOREST CLASSIFIER"
   ]
  },
  {
   "cell_type": "code",
   "execution_count": null,
   "metadata": {},
   "outputs": [],
   "source": [
    "# hyperparameter tunning\n",
    "# the parameters used here are max_depth and max_features\n",
    "\n",
    "# instantiating the Random Forest Model\n",
    "\n",
    "rfc  = RandomForestClassifier(random_state = 0)\n",
    "param_grid = {\"max_depth\":[1,2,3,4,5,6,7,8,9,10], \n",
    "              \"max_features\":[1,2,3,4,5,6,7,8,9,10], \n",
    "              \"max_leaf_nodes\": [1,2,3,4,5,6,7,8,9,10]}\n",
    "\n",
    "grid_rfc = GridSearchCV(rfc, param_grid = param_grid, cv= 6)\n",
    "\n",
    "# fitting the model to get the best parameters\n",
    "grid_rfc.fit(X_train, y_train)\n",
    "print(\"Best Cross-Validation Accuracy and Parameter\")\n",
    "print(\"*********************************************************\")\n",
    "print(\"Best cross-validation accuracy: {:.2f}\".format(grid_rfc.best_score_))\n",
    "print(\"Best parameter:\", grid_rfc.best_params_)\n",
    "print(\"*********************************************************\")"
   ]
  },
  {
   "cell_type": "code",
   "execution_count": null,
   "metadata": {},
   "outputs": [],
   "source": [
    "# modelling with the tuned parameters\n",
    "\n",
    "# Instanstiating the Random Forest Model\n",
    "rfc = RandomForestClassifier(max_depth=4, max_features=8, max_leaf_nodes=7)\n",
    "\n",
    "# fitting the model to the data\n",
    "rfc.fit(X_train, y_train)\n",
    "\n",
    "rfc_train_score = rfc.score(X_train,y_train)\n",
    "rfc_test_score = rfc.score(X_test, y_test)\n",
    "\n",
    "print(\"Train Accuracy: {:.2f}\".format(rfc_train_score))\n",
    "print(\"Test Accuracy: {:.2f} \".format(rfc_test_score))\n",
    "print(\"Percentage of overfitting {:.2f}%\".format(((rfc_train_score-rfc_test_score)/rfc_train_score*100)))\n",
    "\n",
    "rfc_prediction=grid_rfc.predict(X_test)"
   ]
  },
  {
   "cell_type": "markdown",
   "metadata": {},
   "source": [
    "### 5. GRADIENT BOOSTING CLASSIFIER"
   ]
  },
  {
   "cell_type": "code",
   "execution_count": null,
   "metadata": {},
   "outputs": [],
   "source": [
    "# hyperparameter tunning  \n",
    "gbc = GradientBoostingClassifier(n_estimators = 300, max_depth=1, random_state=0)\n",
    "param_grid = {\"max_features\":[1,2,3,4,5,6,7,8,9,10],\n",
    "           \"max_leaf_nodes\":[1,2,3,4,5,6,7,8,9,10]}\n",
    "grid_gbc = GridSearchCV(gbc, param_grid = param_grid, cv = 6)\n",
    "\n",
    "grid_gbc.fit(X_train,y_train)\n",
    "\n",
    "# fitting the model to get the best parameters\n",
    "grid_gbc.fit(X_train, y_train)\n",
    "print(\"Best Cross-Validation Accuracy and Parameter\")\n",
    "print(\"*********************************************************\")\n",
    "print(\"Best cross-validation accuracy: {:.2f}\".format(grid_gbc.best_score_))\n",
    "print(\"Best parameter:\", grid_gbc.best_params_)\n",
    "print(\"*********************************************************\")"
   ]
  },
  {
   "cell_type": "code",
   "execution_count": null,
   "metadata": {},
   "outputs": [],
   "source": [
    "# Instantiating the Gradient Boosting Classifier\n",
    "gbc = GradientBoostingClassifier(n_estimators = 300, max_depth=1,random_state=0)\n",
    "\n",
    "# fit the model to the data\n",
    "gbc.fit(X_train,y_train)\n",
    "y_pred = gbc.predict(X_test)\n",
    "accuracy = accuracy_score(y_test,y_pred)\n",
    "\n",
    "gbc_train_acc = gbc.score(X_train, y_train)\n",
    "gbc_test_acc = gbc.score(X_test, y_test)\n",
    "\n",
    "print(\"Train Accuracy: {:.2f}\".format(gbc_train_acc))\n",
    "print(\"Test Accuracy: {:.2f} \".format(gbc_test_acc))\n",
    "print(\"Percentage of overfitting {:.2f}%\".format(((gbc_train_acc-gbc_test_acc)/gbc_train_acc*100)))\n",
    "\n",
    "gbc_prediction=grid_gbc.predict(X_test)"
   ]
  },
  {
   "cell_type": "markdown",
   "metadata": {},
   "source": [
    "### 6. ADABOOST CLASSIFER"
   ]
  },
  {
   "cell_type": "code",
   "execution_count": null,
   "metadata": {},
   "outputs": [],
   "source": [
    "#instantiating Decision Tree as the base estimator\n",
    "dt = DecisionTreeClassifier(max_depth = 1, random_state = 0)\n",
    "\n",
    "# Instantiating the AdaBoost classifier\n",
    "adb_clf = AdaBoostClassifier(base_estimator=dt,n_estimators =60, random_state = 0 )\n",
    "\n",
    "#fitting the AdaBoost model to the data\n",
    "adb_clf.fit(X_train,y_train)\n",
    "\n",
    "print(\"Train Accuracy of ADB_clf: {:.2f}\".format(adb_clf.score(X_train,y_train)))\n",
    "print(\"Test Accuracy ADB_clf: {:.2f} \".format(adb_clf.score(X_test,y_test)))\n",
    "# print(\"Percentage of overfitting {:.2f}%\".format(((adb_clf_train_acc-gbc_test_acc)/gbc_train_acc*100)))\n",
    "\n",
    "adb_clf_prediction= adb_clf.predict(X_test)\n"
   ]
  },
  {
   "cell_type": "markdown",
   "metadata": {},
   "source": [
    "## MODEL SELECTION"
   ]
  },
  {
   "cell_type": "code",
   "execution_count": null,
   "metadata": {},
   "outputs": [],
   "source": [
    "from sklearn.metrics import confusion_matrix\n",
    "\n",
    "print(\"\\nDecision Tree:\")\n",
    "print(confusion_matrix(y_test, tree_prediction))\n",
    "\n",
    "\n",
    "print(\"\\nLogistic Regression:\")\n",
    "print(confusion_matrix(y_test, lrg_prediction))\n",
    "\n",
    "print(\"\\nSVC:\")\n",
    "print(confusion_matrix(y_test, svc_prediction))\n",
    "\n",
    "print(\"\\nRandom Forest:\")\n",
    "print(confusion_matrix(y_test, rfc_prediction))\n",
    "\n",
    "print(\"\\nGradient Boost:\")\n",
    "print(confusion_matrix(y_test, gbc_prediction))\n",
    "\n",
    "print(\"\\nAda Boost:\")\n",
    "print(confusion_matrix(y_test, adb_clf_prediction))"
   ]
  },
  {
   "cell_type": "code",
   "execution_count": null,
   "metadata": {},
   "outputs": [],
   "source": [
    "y_test.value_counts()"
   ]
  },
  {
   "cell_type": "markdown",
   "metadata": {},
   "source": [
    "## CLASSIFICATION REPORT"
   ]
  },
  {
   "cell_type": "code",
   "execution_count": null,
   "metadata": {},
   "outputs": [],
   "source": [
    "from sklearn.metrics import classification_report\n",
    "\n",
    "print(classification_report(y_test, tree_prediction, target_names=[\"Creditworthy\", \"Not Creditworthy\"]))"
   ]
  },
  {
   "cell_type": "code",
   "execution_count": null,
   "metadata": {},
   "outputs": [],
   "source": [
    "from sklearn.metrics import classification_report\n",
    "\n",
    "print(classification_report(y_test, lrg_prediction, target_names=[\"Creditworthy\", \"Not Creditworthy\"]))"
   ]
  },
  {
   "cell_type": "code",
   "execution_count": null,
   "metadata": {},
   "outputs": [],
   "source": [
    "from sklearn.metrics import classification_report\n",
    "\n",
    "print(classification_report(y_test, svc_prediction, target_names=[\"Creditworthy\", \"Not Creditworthy\"]))"
   ]
  },
  {
   "cell_type": "code",
   "execution_count": null,
   "metadata": {},
   "outputs": [],
   "source": [
    "from sklearn.metrics import classification_report\n",
    "\n",
    "print(classification_report(y_test, rfc_prediction, target_names=[\"Creditworthy\", \"Not Creditworthy\"]))"
   ]
  },
  {
   "cell_type": "code",
   "execution_count": null,
   "metadata": {},
   "outputs": [],
   "source": [
    "\n",
    "from sklearn.metrics import classification_report\n",
    "\n",
    "print(classification_report(y_test, gbc_prediction, target_names=[\"Creditworthy\", \"Not Creditworthy\"]))"
   ]
  },
  {
   "cell_type": "code",
   "execution_count": null,
   "metadata": {},
   "outputs": [],
   "source": [
    "from sklearn.metrics import classification_report\n",
    "\n",
    "print(classification_report(y_test, adb_clf_prediction, target_names=[\"Creditworthy\", \"Not Creditworthy\"]))"
   ]
  },
  {
   "cell_type": "markdown",
   "metadata": {},
   "source": [
    "#### From the classification table, an assessment of the f1-score showed that Support Vector Machine and Random Forest Classifier are the best models with the same score of 0.86. \n",
    "\n",
    "#### However, the confusion mattrix was used as tie-breaker. They both had good True Positive prediction the SVC maintained a better balance in predicting between the credit-worthy and non-credit-worthy. \n",
    "\n",
    "#### Hence, the choice to select SVC as the best model."
   ]
  },
  {
   "cell_type": "markdown",
   "metadata": {},
   "source": [
    "## MODEL EVALUATION"
   ]
  },
  {
   "cell_type": "markdown",
   "metadata": {},
   "source": [
    "The evaluation metrics to be used are:\n",
    "\n",
    "* F1 score\n",
    "* Precision\n",
    "* ROC\n",
    "* Training Score\n",
    "* Test Score\n",
    "* Confusion Matrix"
   ]
  },
  {
   "cell_type": "markdown",
   "metadata": {},
   "source": [
    "### PLOTTING THE ROC CURVE"
   ]
  },
  {
   "cell_type": "code",
   "execution_count": null,
   "metadata": {},
   "outputs": [],
   "source": [
    "r_probs = [0 for i in range(len(y_test))]\n",
    "tree_probs = tree.predict_proba(X_test)\n",
    "lrg_probs = lrg.predict_proba(X_test)\n",
    "svc_probs = svc.predict_proba(X_test)\n",
    "rfc_probs = rfc.predict_proba(X_test)\n",
    "gbc_probs = gbc.predict_proba(X_test)\n",
    "adb_clf_probs = adb_clf.predict_proba(X_test)\n",
    "\n",
    "tree_probs = tree_probs[:,1]\n",
    "lrg_probs = lrg_probs[:, 1]\n",
    "svc_probs = svc_probs[:, 1]\n",
    "rfc_probs = rfc_probs[:,1]\n",
    "gbc_probs = gbc_probs[:, 1]\n",
    "adb_clf_probs = adb_clf_probs[:, 1]\n",
    "\n",
    "r_fpr, r_tpr, _ = roc_curve(y_test, r_probs)\n",
    "tree_fpr, tree_tpr, _ = roc_curve(y_test,tree_probs)\n",
    "lrg_fpr, lrg_tpr, _ = roc_curve(y_test, lrg_probs)\n",
    "svc_fpr, svc_tpr, _ = roc_curve(y_test, svc_probs)#\n",
    "rfc_fpr, rfc_tpr, _ = roc_curve(y_test,rfc_probs)\n",
    "gbc_fpr, gbc_tpr, _ = roc_curve(y_test,gbc_probs)\n",
    "adb_clf_fpr, adb_clf_tpr, _ = roc_curve(y_test,adb_clf_probs)\n",
    "\n",
    "\n",
    "r_auc = roc_auc_score(y_test, r_probs)\n",
    "tree_auc = roc_auc_score(y_test, tree_probs)\n",
    "lrg_auc = roc_auc_score(y_test,lrg_probs)\n",
    "svc_auc = roc_auc_score(y_test,svc_probs)\n",
    "rfc_auc = roc_auc_score(y_test,rfc_probs)\n",
    "gbc_auc = roc_auc_score(y_test, gbc_probs)\n",
    "adb_clf_auc = roc_auc_score(y_test,adb_clf_probs)"
   ]
  },
  {
   "cell_type": "code",
   "execution_count": null,
   "metadata": {},
   "outputs": [],
   "source": [
    "plt.figure(figsize=(12,8))\n",
    "plt.plot(r_fpr, r_tpr, linestyle='--', label='Random prediction (AUROC = %0.3f)' % r_auc)\n",
    "plt.plot(tree_fpr, tree_tpr, marker='_', label='Decision Tree(AUROC = %0.3f)' % tree_auc)\n",
    "plt.plot(lrg_fpr, lrg_tpr, marker='_', label='Logistic Regression(AUROC = %0.3f)' % lrg_auc)\n",
    "plt.plot(svc_fpr, svc_tpr, marker='_', label='SVC(AUROC = %0.3f)' % svc_auc)\n",
    "plt.plot(rfc_fpr, rfc_tpr, marker='_', label='Random Forest(AUROC = %0.3f)' % rfc_auc)\n",
    "plt.plot(gbc_fpr, gbc_tpr, marker='_', label='Gradient Boosting(AUROC = %0.3f)' % gbc_auc)\n",
    "plt.plot(adb_clf_fpr, adb_clf_tpr, marker='_', label='AdaBoost(AUROC = %0.3f)' % adb_clf_auc)\n",
    "\n",
    "import matplotlib.pyplot as plt\n",
    "\n",
    "# Title\n",
    "plt.title('ROC Plot')\n",
    "# Axis labels\n",
    "plt.xlabel('False Positive Rate')\n",
    "plt.ylabel('True Positive Rate')\n",
    "# Show legend\n",
    "plt.legend() \n",
    "# Show plot\n",
    "plt.show()"
   ]
  },
  {
   "cell_type": "markdown",
   "metadata": {},
   "source": [
    "### PREDICTION WITH THE TEST DATASET"
   ]
  },
  {
   "cell_type": "markdown",
   "metadata": {},
   "source": [
    "#### IMPORTING THE TEST DATASET"
   ]
  },
  {
   "cell_type": "code",
   "execution_count": null,
   "metadata": {},
   "outputs": [],
   "source": [
    "test_set = pd.read_excel(\"customers-to-score.xlsx\")"
   ]
  },
  {
   "cell_type": "code",
   "execution_count": null,
   "metadata": {},
   "outputs": [],
   "source": [
    "test_set.shape"
   ]
  },
  {
   "cell_type": "code",
   "execution_count": null,
   "metadata": {
    "scrolled": false
   },
   "outputs": [],
   "source": [
    "test_set.head(4)"
   ]
  },
  {
   "cell_type": "code",
   "execution_count": null,
   "metadata": {},
   "outputs": [],
   "source": [
    "test_set.info()"
   ]
  },
  {
   "cell_type": "code",
   "execution_count": null,
   "metadata": {},
   "outputs": [],
   "source": [
    "test_set.isnull().sum()"
   ]
  },
  {
   "cell_type": "markdown",
   "metadata": {},
   "source": [
    "### DROPPINGTHE IRRELEVANT VARIABLES"
   ]
  },
  {
   "cell_type": "code",
   "execution_count": null,
   "metadata": {},
   "outputs": [],
   "source": [
    "test_set.drop(columns=['Occupation', 'Telephone','Concurrent-Credits',\\\n",
    "                        'Duration-in-Current-address','Guarantors',\\\n",
    "                       'No-of-dependents','Foreign-Worker'], axis=1, inplace = True)"
   ]
  },
  {
   "cell_type": "code",
   "execution_count": null,
   "metadata": {},
   "outputs": [],
   "source": [
    "test_set.head(3)"
   ]
  },
  {
   "cell_type": "code",
   "execution_count": null,
   "metadata": {},
   "outputs": [],
   "source": [
    "# replacing the\"other\" values with \"Used cars\"\n",
    "test_set[\"Purpose\"].replace({\"Other\":\"Used car\"},inplace=True) "
   ]
  },
  {
   "cell_type": "markdown",
   "metadata": {},
   "source": [
    "#### CONVERTING CATERGORICAL VARIABLES TO DUMMY VARIABLES\n"
   ]
  },
  {
   "cell_type": "code",
   "execution_count": null,
   "metadata": {},
   "outputs": [],
   "source": [
    "test_set= pd.get_dummies(test_set, columns = ['Account-Balance',\n",
    "       'Payment-Status-of-Previous-Credit', 'Purpose', 'Value-Savings-Stocks',\n",
    "       'Length-of-current-employment','No-of-Credits-at-this-Bank'], drop_first = True)"
   ]
  },
  {
   "cell_type": "code",
   "execution_count": null,
   "metadata": {
    "scrolled": true
   },
   "outputs": [],
   "source": [
    "test_set"
   ]
  },
  {
   "cell_type": "code",
   "execution_count": null,
   "metadata": {},
   "outputs": [],
   "source": []
  },
  {
   "cell_type": "code",
   "execution_count": null,
   "metadata": {
    "scrolled": true
   },
   "outputs": [],
   "source": [
    "test_set.info()"
   ]
  },
  {
   "cell_type": "code",
   "execution_count": null,
   "metadata": {},
   "outputs": [],
   "source": []
  },
  {
   "cell_type": "code",
   "execution_count": null,
   "metadata": {},
   "outputs": [],
   "source": [
    "test_set.head(1)"
   ]
  },
  {
   "cell_type": "code",
   "execution_count": null,
   "metadata": {},
   "outputs": [],
   "source": [
    "test_set1 = test_set\n",
    "test_set[\"Credit-Application-Result\"] = svc.predict(test_set)"
   ]
  },
  {
   "cell_type": "code",
   "execution_count": null,
   "metadata": {},
   "outputs": [],
   "source": [
    "test_set[\"Credit-Application-Result\"].replace({0: \"Creditworthy\", 1: \"Non-Creditworthy\"},inplace = True)"
   ]
  },
  {
   "cell_type": "code",
   "execution_count": null,
   "metadata": {},
   "outputs": [],
   "source": [
    "test_set[\"Credit-Application-Result\"].value_counts()"
   ]
  },
  {
   "cell_type": "code",
   "execution_count": null,
   "metadata": {},
   "outputs": [],
   "source": [
    "results = test_set[\"Credit-Application-Result\"]"
   ]
  },
  {
   "cell_type": "code",
   "execution_count": null,
   "metadata": {},
   "outputs": [],
   "source": [
    "results.to_csv(\"Theophilus_Loan Eligibility Prediction.csv\", index=False)"
   ]
  },
  {
   "cell_type": "code",
   "execution_count": null,
   "metadata": {},
   "outputs": [],
   "source": []
  }
 ],
 "metadata": {
  "kernelspec": {
   "display_name": "Python 3 (ipykernel)",
   "language": "python",
   "name": "python3"
  },
  "language_info": {
   "codemirror_mode": {
    "name": "ipython",
    "version": 3
   },
   "file_extension": ".py",
   "mimetype": "text/x-python",
   "name": "python",
   "nbconvert_exporter": "python",
   "pygments_lexer": "ipython3",
   "version": "3.8.3"
  }
 },
 "nbformat": 4,
 "nbformat_minor": 4
}
